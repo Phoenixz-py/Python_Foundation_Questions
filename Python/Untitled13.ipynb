{
 "cells": [
  {
   "cell_type": "code",
   "execution_count": 8,
   "id": "b262dd6d",
   "metadata": {},
   "outputs": [
    {
     "ename": "SyntaxError",
     "evalue": "EOL while scanning string literal (2996584147.py, line 20)",
     "output_type": "error",
     "traceback": [
      "\u001b[1;36m  Input \u001b[1;32mIn [8]\u001b[1;36m\u001b[0m\n\u001b[1;33m    print('Checking two lists with is membership operators: True'')\u001b[0m\n\u001b[1;37m                                                                   ^\u001b[0m\n\u001b[1;31mSyntaxError\u001b[0m\u001b[1;31m:\u001b[0m EOL while scanning string literal\n"
     ]
    }
   ],
   "source": [
    "myListA = []\n",
    "myListB = []\n",
    "\n",
    "n = int(input(\"Enter how many elements will be in the list: \"))\n",
    "\n",
    "for i in range (n):\n",
    "    storeElement = int(input(\"Enter the element: \"))\n",
    "    myListA.append (storeElement)\n",
    "    \n",
    "for j in range (n):\n",
    "    storeElementB = int(input(\"Enter the element of second list: \"))\n",
    "    myListB.append (storeElementB)\n",
    "    \n",
    "print(myListA)\n",
    "print(myListB)\n",
    "\n",
    "if myListA not in myListB:\n",
    "    print('Checking two lists with not in membership operators: True')\n",
    "elif myListA is myListB:\n",
    "    print('Checking two lists with is membership operators: True'')\n",
    "\n",
    "if myListA is not myListB:\n",
    "    print(\"Checking two lists with is not membership operators: True\")"
   ]
  },
  {
   "cell_type": "code",
   "execution_count": null,
   "id": "89238a7f",
   "metadata": {},
   "outputs": [],
   "source": []
  }
 ],
 "metadata": {
  "kernelspec": {
   "display_name": "Python 3 (ipykernel)",
   "language": "python",
   "name": "python3"
  },
  "language_info": {
   "codemirror_mode": {
    "name": "ipython",
    "version": 3
   },
   "file_extension": ".py",
   "mimetype": "text/x-python",
   "name": "python",
   "nbconvert_exporter": "python",
   "pygments_lexer": "ipython3",
   "version": "3.9.12"
  }
 },
 "nbformat": 4,
 "nbformat_minor": 5
}
