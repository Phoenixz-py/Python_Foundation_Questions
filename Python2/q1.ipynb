{
 "cells": [
  {
   "cell_type": "code",
   "execution_count": 1,
   "id": "02f3eca3",
   "metadata": {},
   "outputs": [
    {
     "name": "stdout",
     "output_type": "stream",
     "text": [
      "Enter number A: 5\n",
      "Enter number B: 7\n",
      "Enter number C: 8\n",
      "C is largest among the three numbers you have inputted\n"
     ]
    }
   ],
   "source": [
    "a = int(input('Enter number A: '))\n",
    "b = int(input('Enter number B: '))\n",
    "c = int(input('Enter number C: '))\n",
    "\n",
    "if a > b and a > c:\n",
    "    print('A is largest among the three numbers you have inputted')\n",
    "    \n",
    "elif b > c and b > a:\n",
    "    print('B is largest among the three numbers you have inputted')\n",
    "\n",
    "elif c > b and c > a:\n",
    "    print('C is largest among the three numbers you have inputted')\n",
    "\n",
    "\n"
   ]
  },
  {
   "cell_type": "code",
   "execution_count": null,
   "id": "ae0f573a",
   "metadata": {},
   "outputs": [],
   "source": []
  }
 ],
 "metadata": {
  "kernelspec": {
   "display_name": "Python 3 (ipykernel)",
   "language": "python",
   "name": "python3"
  },
  "language_info": {
   "codemirror_mode": {
    "name": "ipython",
    "version": 3
   },
   "file_extension": ".py",
   "mimetype": "text/x-python",
   "name": "python",
   "nbconvert_exporter": "python",
   "pygments_lexer": "ipython3",
   "version": "3.9.12"
  }
 },
 "nbformat": 4,
 "nbformat_minor": 5
}
