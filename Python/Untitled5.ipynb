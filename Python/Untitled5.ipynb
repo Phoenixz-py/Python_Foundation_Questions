{
 "cells": [
  {
   "cell_type": "code",
   "execution_count": 6,
   "id": "7f400457",
   "metadata": {},
   "outputs": [
    {
     "name": "stdout",
     "output_type": "stream",
     "text": [
      "Hellow\n"
     ]
    }
   ],
   "source": [
    "print('Hellow')"
   ]
  },
  {
   "cell_type": "code",
   "execution_count": 10,
   "id": "c1251f5a",
   "metadata": {},
   "outputs": [
    {
     "name": "stdout",
     "output_type": "stream",
     "text": [
      "Enter to know data type: \n",
      "<class 'dict'>\n"
     ]
    }
   ],
   "source": [
    "print('Enter to know data type: ')\n",
    "a = {1: 2}\n",
    "print(type(a))\n"
   ]
  },
  {
   "cell_type": "code",
   "execution_count": null,
   "id": "53336380",
   "metadata": {},
   "outputs": [],
   "source": []
  }
 ],
 "metadata": {
  "kernelspec": {
   "display_name": "Python 3 (ipykernel)",
   "language": "python",
   "name": "python3"
  },
  "language_info": {
   "codemirror_mode": {
    "name": "ipython",
    "version": 3
   },
   "file_extension": ".py",
   "mimetype": "text/x-python",
   "name": "python",
   "nbconvert_exporter": "python",
   "pygments_lexer": "ipython3",
   "version": "3.9.12"
  }
 },
 "nbformat": 4,
 "nbformat_minor": 5
}
