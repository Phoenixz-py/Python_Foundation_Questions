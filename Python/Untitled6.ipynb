{
 "cells": [
  {
   "cell_type": "code",
   "execution_count": 3,
   "id": "cf6b7181",
   "metadata": {},
   "outputs": [
    {
     "name": "stdout",
     "output_type": "stream",
     "text": [
      "Do you want to find parameter of the triangle? Enter 1 \n",
      "Do you want to find parameter and area circle ? Enter 2 \n",
      "Do you want to find parameter and area square? Enter 3 \n",
      "2\n"
     ]
    },
    {
     "ename": "NameError",
     "evalue": "name 'twitser' is not defined",
     "output_type": "error",
     "traceback": [
      "\u001b[1;31m---------------------------------------------------------------------------\u001b[0m",
      "\u001b[1;31mNameError\u001b[0m                                 Traceback (most recent call last)",
      "Input \u001b[1;32mIn [3]\u001b[0m, in \u001b[0;36m<cell line: 6>\u001b[1;34m()\u001b[0m\n\u001b[0;32m      3\u001b[0m \u001b[38;5;28mprint\u001b[39m(\u001b[38;5;124m\"\u001b[39m\u001b[38;5;124mDo you want to find parameter and area square? Enter 3 \u001b[39m\u001b[38;5;124m\"\u001b[39m)\n\u001b[0;32m      4\u001b[0m twister \u001b[38;5;241m=\u001b[39m \u001b[38;5;28mint\u001b[39m(\u001b[38;5;28minput\u001b[39m())\n\u001b[1;32m----> 6\u001b[0m \u001b[38;5;28;01mif\u001b[39;00m \u001b[43mtwitser\u001b[49m \u001b[38;5;241m==\u001b[39m \u001b[38;5;241m1\u001b[39m:\n\u001b[0;32m      7\u001b[0m     \u001b[38;5;28mprint\u001b[39m(\u001b[38;5;124m\"\u001b[39m\u001b[38;5;124mEnter breadth of triangle: \u001b[39m\u001b[38;5;124m\"\u001b[39m);\n\u001b[0;32m      8\u001b[0m     b \u001b[38;5;241m=\u001b[39m \u001b[38;5;28mint\u001b[39m(\u001b[38;5;28minput\u001b[39m())\n",
      "\u001b[1;31mNameError\u001b[0m: name 'twitser' is not defined"
     ]
    }
   ],
   "source": [
    "print(\"Do you want to find parameter of the triangle? Enter 1 \")\n",
    "print(\"Do you want to find parameter and area circle ? Enter 2 \")\n",
    "print(\"Do you want to find parameter and area square? Enter 3 \")\n",
    "twister = int(input())\n",
    "\n",
    "if twitser == 1:\n",
    "    print(\"Enter breadth of triangle: \");\n",
    "    b = int(input())\n",
    "    print(\"Enter height of the triangle: \")\n",
    "    h = int(input())\n",
    "    print(\"Area of the triangle: \")\n",
    "    print(1/2 * b * h)\n",
    "    \n",
    "elif twitser == 2:\n",
    "    print(\"Enter the radius: \")\n",
    "    r = int(input())\n",
    "    print(\"Area of Circle: \")\n",
    "    print(22/7 * r)\n",
    "    print(\"Parameter of Circle: \")\n",
    "    print(2 * 22/7 * r)\n",
    "else:\n",
    "        print(\"Enter breadth of square: \");\n",
    "        s = int(input())\n",
    "        print(\"Area of Square: \")\n",
    "        print(s * s)\n",
    "        print(\"Parameter of Square: \")\n",
    "        print(4 * s)\n",
    "\n",
    "\n",
    "    "
   ]
  },
  {
   "cell_type": "code",
   "execution_count": null,
   "id": "1a64821e",
   "metadata": {},
   "outputs": [],
   "source": []
  }
 ],
 "metadata": {
  "kernelspec": {
   "display_name": "Python 3 (ipykernel)",
   "language": "python",
   "name": "python3"
  },
  "language_info": {
   "codemirror_mode": {
    "name": "ipython",
    "version": 3
   },
   "file_extension": ".py",
   "mimetype": "text/x-python",
   "name": "python",
   "nbconvert_exporter": "python",
   "pygments_lexer": "ipython3",
   "version": "3.9.12"
  }
 },
 "nbformat": 4,
 "nbformat_minor": 5
}
