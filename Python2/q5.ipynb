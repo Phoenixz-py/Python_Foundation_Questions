{
 "cells": [
  {
   "cell_type": "code",
   "execution_count": 16,
   "id": "13db9dd5",
   "metadata": {},
   "outputs": [
    {
     "name": "stdout",
     "output_type": "stream",
     "text": [
      "Enter the number: 1212\n",
      "is_pamindrome\n"
     ]
    }
   ],
   "source": [
    "a = input('Enter the number: ')\n",
    "\n",
    "is_pamindrome = True\n",
    "for i in range(len(a)):\n",
    "    if a[i] != a[-1-i]:\n",
    "        is_pamindrome = False\n",
    "        break;\n",
    "print(is_pamindrome)"
   ]
  },
  {
   "cell_type": "code",
   "execution_count": null,
   "id": "14f9cc93",
   "metadata": {},
   "outputs": [],
   "source": []
  }
 ],
 "metadata": {
  "kernelspec": {
   "display_name": "Python 3 (ipykernel)",
   "language": "python",
   "name": "python3"
  },
  "language_info": {
   "codemirror_mode": {
    "name": "ipython",
    "version": 3
   },
   "file_extension": ".py",
   "mimetype": "text/x-python",
   "name": "python",
   "nbconvert_exporter": "python",
   "pygments_lexer": "ipython3",
   "version": "3.9.12"
  }
 },
 "nbformat": 4,
 "nbformat_minor": 5
}
