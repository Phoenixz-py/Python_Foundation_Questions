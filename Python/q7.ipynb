{
 "cells": [
  {
   "cell_type": "code",
   "execution_count": 6,
   "id": "320cf03a",
   "metadata": {},
   "outputs": [
    {
     "name": "stdout",
     "output_type": "stream",
     "text": [
      "Do you want to find parameter of the triangle? Enter 1 \n",
      "Do you want to find parameter and area circle ? Enter 2 \n",
      "Do you want to find parameter and area square? Enter 3 \n",
      "3\n",
      "Enter breadth of square: \n",
      "4\n",
      "Area of Square: \n",
      "16\n",
      "Parameter of Square: \n",
      "16\n"
     ]
    }
   ],
   "source": [
    "print(\"Do you want to find parameter of the triangle? Enter 1 \")\n",
    "print(\"Do you want to find parameter and area circle ? Enter 2 \")\n",
    "print(\"Do you want to find parameter and area square? Enter 3 \")\n",
    "t = int(input())\n",
    "\n",
    "if t == 1:\n",
    "    print(\"Enter breadth of triangle: \");\n",
    "    b = int(input())\n",
    "    print(\"Enter height of the triangle: \")\n",
    "    h = int(input())\n",
    "    print(\"Area of the triangle: \")\n",
    "    print(1/2 * b * h)\n",
    "    \n",
    "elif t == 2:\n",
    "    print(\"Enter the radius: \")\n",
    "    r = int(input())\n",
    "    print(\"Area of Circle: \")\n",
    "    print(22/7 * r)\n",
    "    print(\"Parameter of Circle: \")\n",
    "    print(2 * 22/7 * r)\n",
    "else:\n",
    "        print(\"Enter breadth of square: \");\n",
    "        s = int(input())\n",
    "        print(\"Area of Square: \")\n",
    "        print(s * s)\n",
    "        print(\"Parameter of Square: \")\n",
    "        print(4 * s)\n",
    "\n",
    "\n",
    "    "
   ]
  },
  {
   "cell_type": "code",
   "execution_count": null,
   "id": "75708129",
   "metadata": {},
   "outputs": [],
   "source": []
  }
 ],
 "metadata": {
  "kernelspec": {
   "display_name": "Python 3 (ipykernel)",
   "language": "python",
   "name": "python3"
  },
  "language_info": {
   "codemirror_mode": {
    "name": "ipython",
    "version": 3
   },
   "file_extension": ".py",
   "mimetype": "text/x-python",
   "name": "python",
   "nbconvert_exporter": "python",
   "pygments_lexer": "ipython3",
   "version": "3.9.12"
  }
 },
 "nbformat": 4,
 "nbformat_minor": 5
}
