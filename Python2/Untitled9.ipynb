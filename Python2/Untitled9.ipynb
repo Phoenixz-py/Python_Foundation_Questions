{
 "cells": [
  {
   "cell_type": "code",
   "execution_count": 15,
   "id": "f8e040da",
   "metadata": {},
   "outputs": [
    {
     "name": "stdout",
     "output_type": "stream",
     "text": [
      "\n",
      "Enter the name of figure you want find area of:\n",
      "Your oprtions are:\n",
      "Circle\n",
      "Square \n",
      "Rectangle \n",
      "Triangle \n",
      "Sphere\n",
      "\n",
      "Circle\n",
      "Enter the radius: 4\n",
      "12.56\n"
     ]
    }
   ],
   "source": [
    "print(\"\"\"\n",
    "Enter the name of figure you want find area of:\n",
    "Your oprtions are:\n",
    "Circle\n",
    "Square \n",
    "Rectangle \n",
    "Triangle \n",
    "Sphere\n",
    "\"\"\")\n",
    "a = input()\n",
    "\n",
    "if a == 'Circle':\n",
    "    radius = int(input(\"Enter the radius: \"))\n",
    "    print(3.14 * radius)\n",
    "    \n",
    "elif a == 'Square':\n",
    "    side = int(input('Enter the side lenth: '))\n",
    "    print(side * side)\n",
    "\n",
    "elif a == 'Rectangle':\n",
    "    wdith = int(input('Enter the width: '))\n",
    "    hei \n",
    "\n",
    "elif a == 'Triangle':\n",
    "     breadth = int(input('Enter the breadth of traingle: '))\n",
    "        height = int(input('Enter the height of traingle: '))\n",
    "        print(1/2 * breadth * height)\n",
    "\n",
    "elif a == 'Sphere':\n",
    "    radi = int(input('Enter the radius of the sphere\" '))\n",
    "    print(4 * 22/7 * rad)\n",
    "\n",
    "else:\n",
    "    print('Enter correct spelling in scope of options given')\n",
    "    \n",
    "\n",
    "    "
   ]
  },
  {
   "cell_type": "code",
   "execution_count": null,
   "id": "e3668a7d",
   "metadata": {},
   "outputs": [],
   "source": []
  }
 ],
 "metadata": {
  "kernelspec": {
   "display_name": "Python 3 (ipykernel)",
   "language": "python",
   "name": "python3"
  },
  "language_info": {
   "codemirror_mode": {
    "name": "ipython",
    "version": 3
   },
   "file_extension": ".py",
   "mimetype": "text/x-python",
   "name": "python",
   "nbconvert_exporter": "python",
   "pygments_lexer": "ipython3",
   "version": "3.9.12"
  }
 },
 "nbformat": 4,
 "nbformat_minor": 5
}
