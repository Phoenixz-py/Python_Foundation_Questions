{
 "cells": [
  {
   "cell_type": "code",
   "execution_count": 1,
   "id": "89fab77e",
   "metadata": {},
   "outputs": [
    {
     "name": "stdout",
     "output_type": "stream",
     "text": [
      "Enter the celcius to convert\n",
      "1\n",
      "The fahrenheit is: \n",
      "33.8\n"
     ]
    }
   ],
   "source": [
    "print(\"Enter the celcius to convert\")\n",
    "askerC = int(input())\n",
    "print(\"The fahrenheit is: \")\n",
    "print(askerC * 1.8 + 32)"
   ]
  },
  {
   "cell_type": "code",
   "execution_count": null,
   "id": "4c664316",
   "metadata": {},
   "outputs": [],
   "source": []
  }
 ],
 "metadata": {
  "kernelspec": {
   "display_name": "Python 3 (ipykernel)",
   "language": "python",
   "name": "python3"
  },
  "language_info": {
   "codemirror_mode": {
    "name": "ipython",
    "version": 3
   },
   "file_extension": ".py",
   "mimetype": "text/x-python",
   "name": "python",
   "nbconvert_exporter": "python",
   "pygments_lexer": "ipython3",
   "version": "3.9.12"
  }
 },
 "nbformat": 4,
 "nbformat_minor": 5
}
