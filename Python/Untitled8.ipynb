{
 "cells": [
  {
   "cell_type": "code",
   "execution_count": 29,
   "id": "fee9f247",
   "metadata": {
    "scrolled": false
   },
   "outputs": [
    {
     "name": "stdout",
     "output_type": "stream",
     "text": [
      "Enter 0 for + \n",
      "Enter 1 for -  \n",
      "Enter 2 for muntiply * \n",
      "Enter 3 for division /   \n",
      "Enter 4 for Modulus %  \n",
      "Enter 5 for Exponentiation **\n",
      "Enter 6 for Floor division //\n",
      "     \n",
      "Enter A: 9\n",
      "Enter B: 5\n",
      "3\n"
     ]
    },
    {
     "data": {
      "text/plain": [
       "1.8"
      ]
     },
     "execution_count": 29,
     "metadata": {},
     "output_type": "execute_result"
    }
   ],
   "source": [
    "\n",
    "def switcher_function(argument):\n",
    "    switcher = {\n",
    "       0: a + b,\n",
    "       1: a - b,\n",
    "       2: a * b,\n",
    "       3: a / b,\n",
    "       4: a % b,\n",
    "       5: a ** b,\n",
    "       6: a // b,\n",
    "    }\n",
    "    return switcher.get(argument, 'too much curiosity')\n",
    "    \n",
    "print(\"\"\"Enter 0 for + \n",
    "Enter 1 for -  \n",
    "Enter 2 for muntiply * \n",
    "Enter 3 for division /   \n",
    "Enter 4 for Modulus %  \n",
    "Enter 5 for Exponentiation **\n",
    "Enter 6 for Floor division //\n",
    "     \"\"\")\n",
    "    \n",
    "a = int(input('Enter A: '))\n",
    "b = int(input('Enter B: '))\n",
    "\n",
    "manipulator = int(input())\n",
    "switcher_function(manipulator)\n"
   ]
  },
  {
   "cell_type": "code",
   "execution_count": null,
   "id": "39026c19",
   "metadata": {},
   "outputs": [],
   "source": []
  }
 ],
 "metadata": {
  "kernelspec": {
   "display_name": "Python 3 (ipykernel)",
   "language": "python",
   "name": "python3"
  },
  "language_info": {
   "codemirror_mode": {
    "name": "ipython",
    "version": 3
   },
   "file_extension": ".py",
   "mimetype": "text/x-python",
   "name": "python",
   "nbconvert_exporter": "python",
   "pygments_lexer": "ipython3",
   "version": "3.9.12"
  }
 },
 "nbformat": 4,
 "nbformat_minor": 5
}
