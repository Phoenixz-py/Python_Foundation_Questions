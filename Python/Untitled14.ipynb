{
 "cells": [
  {
   "cell_type": "code",
   "execution_count": 7,
   "id": "47f829ec",
   "metadata": {},
   "outputs": [
    {
     "name": "stdout",
     "output_type": "stream",
     "text": [
      "Enter number A: 5\n",
      "Enter number B: 6\n",
      "Value of c when assigned A & B: 4\n",
      "Value of c when a | b 7\n"
     ]
    }
   ],
   "source": [
    "a = int(input('Enter number A: '))\n",
    "b = int(input('Enter number B: '))\n",
    "\n",
    "print('Value of AND operation', a & b )\n",
    "print('Value of OR operation', a | b)\n",
    "print('value  when NOT operation')"
   ]
  },
  {
   "cell_type": "code",
   "execution_count": null,
   "id": "99f1b1b6",
   "metadata": {},
   "outputs": [],
   "source": []
  }
 ],
 "metadata": {
  "kernelspec": {
   "display_name": "Python 3 (ipykernel)",
   "language": "python",
   "name": "python3"
  },
  "language_info": {
   "codemirror_mode": {
    "name": "ipython",
    "version": 3
   },
   "file_extension": ".py",
   "mimetype": "text/x-python",
   "name": "python",
   "nbconvert_exporter": "python",
   "pygments_lexer": "ipython3",
   "version": "3.9.12"
  }
 },
 "nbformat": 4,
 "nbformat_minor": 5
}
