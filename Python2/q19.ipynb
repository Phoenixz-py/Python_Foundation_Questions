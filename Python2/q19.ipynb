{
 "cells": [
  {
   "cell_type": "code",
   "execution_count": 2,
   "id": "2ff77683",
   "metadata": {},
   "outputs": [
    {
     "name": "stdout",
     "output_type": "stream",
     "text": [
      "Enter first string: yash\n",
      "Enter second string: aws\n",
      "yash Is larget\n"
     ]
    }
   ],
   "source": [
    "a = input('Enter first string: ')\n",
    "b = input('Enter second string: ')\n",
    "\n",
    "j = len(a)\n",
    "i = len(b)\n",
    "if j > i:\n",
    "    print(a, 'Is larget')\n",
    "elif i > j:\n",
    "    print(b, 'Is largest')\n",
    "else:\n",
    "    print('Dont know')"
   ]
  },
  {
   "cell_type": "code",
   "execution_count": null,
   "id": "194b0a00",
   "metadata": {},
   "outputs": [],
   "source": []
  }
 ],
 "metadata": {
  "kernelspec": {
   "display_name": "Python 3.9.12 ('base')",
   "language": "python",
   "name": "python3"
  },
  "language_info": {
   "codemirror_mode": {
    "name": "ipython",
    "version": 3
   },
   "file_extension": ".py",
   "mimetype": "text/x-python",
   "name": "python",
   "nbconvert_exporter": "python",
   "pygments_lexer": "ipython3",
   "version": "3.9.12"
  },
  "vscode": {
   "interpreter": {
    "hash": "ba0e3d75d985893c9c9adc870af4f0162c60668e9152b26b2b1f278ea113149b"
   }
  }
 },
 "nbformat": 4,
 "nbformat_minor": 5
}
