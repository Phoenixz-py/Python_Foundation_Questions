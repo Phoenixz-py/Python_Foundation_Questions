{
 "cells": [
  {
   "cell_type": "code",
   "execution_count": 8,
   "id": "28a04ae8",
   "metadata": {},
   "outputs": [
    {
     "name": "stdout",
     "output_type": "stream",
     "text": [
      "Enter number A: 6\n",
      "Enter number B: 8\n",
      "Value of AND operation 0\n",
      "Value of OR operation 14\n",
      "value of NOT operation on a -7\n",
      "Value of  XOR operation 14\n"
     ]
    }
   ],
   "source": [
    "a = int(input('Enter number A: '))\n",
    "b = int(input('Enter number B: '))\n",
    "\n",
    "print('Value of AND operation', a & b )\n",
    "print('Value of OR operation', a | b)\n",
    "print('value of NOT operation on a', ~a)\n",
    "print('Value of XOR operation', a ^ b)"
   ]
  },
  {
   "cell_type": "code",
   "execution_count": null,
   "id": "0594960f",
   "metadata": {},
   "outputs": [],
   "source": []
  }
 ],
 "metadata": {
  "kernelspec": {
   "display_name": "Python 3 (ipykernel)",
   "language": "python",
   "name": "python3"
  },
  "language_info": {
   "codemirror_mode": {
    "name": "ipython",
    "version": 3
   },
   "file_extension": ".py",
   "mimetype": "text/x-python",
   "name": "python",
   "nbconvert_exporter": "python",
   "pygments_lexer": "ipython3",
   "version": "3.9.12"
  }
 },
 "nbformat": 4,
 "nbformat_minor": 5
}
