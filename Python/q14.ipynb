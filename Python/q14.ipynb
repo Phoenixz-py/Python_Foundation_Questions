{
 "cells": [
  {
   "cell_type": "code",
   "execution_count": 9,
   "id": "d0f4e529",
   "metadata": {},
   "outputs": [
    {
     "name": "stdout",
     "output_type": "stream",
     "text": [
      "Enter how many elements will be in the list: 4\n",
      "Enter the element: 1\n",
      "Enter the element: 2\n",
      "Enter the element: 3\n",
      "Enter the element: 4\n",
      "Enter the element of second list: 1\n",
      "Enter the element of second list: 2\n",
      "Enter the element of second list: 3\n",
      "Enter the element of second list: 4\n",
      "[1, 2, 3, 4]\n",
      "[1, 2, 3, 4]\n",
      "Checking two lists with not in membership operators: True\n",
      "Checking two lists with is not membership operators: True\n"
     ]
    }
   ],
   "source": [
    "myListA = []\n",
    "myListB = []\n",
    "\n",
    "n = int(input(\"Enter how many elements will be in the list: \"))\n",
    "\n",
    "for i in range (n):\n",
    "    storeElement = int(input(\"Enter the element: \"))\n",
    "    myListA.append (storeElement)\n",
    "    \n",
    "for j in range (n):\n",
    "    storeElementB = int(input(\"Enter the element of second list: \"))\n",
    "    myListB.append (storeElementB)\n",
    "    \n",
    "print(myListA)\n",
    "print(myListB)\n",
    "\n",
    "if myListA not in myListB:\n",
    "    print('Checking two lists with not in membership operators: True')\n",
    "elif myListA is myListB:\n",
    "    print('Checking two lists with is membership operators: True')\n",
    "\n",
    "if myListA is not myListB:\n",
    "    print(\"Checking two lists with is not membership operators: True\")"
   ]
  },
  {
   "cell_type": "code",
   "execution_count": null,
   "id": "ca492bd0",
   "metadata": {},
   "outputs": [],
   "source": []
  }
 ],
 "metadata": {
  "kernelspec": {
   "display_name": "Python 3 (ipykernel)",
   "language": "python",
   "name": "python3"
  },
  "language_info": {
   "codemirror_mode": {
    "name": "ipython",
    "version": 3
   },
   "file_extension": ".py",
   "mimetype": "text/x-python",
   "name": "python",
   "nbconvert_exporter": "python",
   "pygments_lexer": "ipython3",
   "version": "3.9.12"
  }
 },
 "nbformat": 4,
 "nbformat_minor": 5
}
