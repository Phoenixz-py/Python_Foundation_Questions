{
 "cells": [
  {
   "cell_type": "code",
   "execution_count": 2,
   "id": "0d2a5b52",
   "metadata": {},
   "outputs": [
    {
     "name": "stdout",
     "output_type": "stream",
     "text": [
      "[['Hello PHOENIX\\n' 'Well trying to to get first line\\n' '3rd line\\n'\n",
      "  'Appending a line as txt to the fileAppending a line as txt to the file']]\n"
     ]
    }
   ],
   "source": [
    "import numpy as np\n",
    "\n",
    "with open('toread.txt') as f:\n",
    "\n",
    "    lines = f.readlines()\n",
    "\n",
    "numpyArr = np.array([lines])\n",
    "\n",
    "print(numpyArr)"
   ]
  },
  {
   "cell_type": "code",
   "execution_count": null,
   "id": "dadce571",
   "metadata": {},
   "outputs": [],
   "source": []
  }
 ],
 "metadata": {
  "kernelspec": {
   "display_name": "Python 3.9.12 ('base')",
   "language": "python",
   "name": "python3"
  },
  "language_info": {
   "codemirror_mode": {
    "name": "ipython",
    "version": 3
   },
   "file_extension": ".py",
   "mimetype": "text/x-python",
   "name": "python",
   "nbconvert_exporter": "python",
   "pygments_lexer": "ipython3",
   "version": "3.9.12"
  },
  "vscode": {
   "interpreter": {
    "hash": "ba0e3d75d985893c9c9adc870af4f0162c60668e9152b26b2b1f278ea113149b"
   }
  }
 },
 "nbformat": 4,
 "nbformat_minor": 5
}
