{
 "cells": [
  {
   "cell_type": "code",
   "execution_count": 2,
   "id": "4e373153",
   "metadata": {},
   "outputs": [
    {
     "name": "stdout",
     "output_type": "stream",
     "text": [
      "Enter first number\n",
      "4\n",
      "Enter second number\n",
      "5\n",
      "starting swap\n",
      "5\n",
      "4\n"
     ]
    }
   ],
   "source": [
    "print('Enter first number')\n",
    "f = int(input())\n",
    "print('Enter second number')\n",
    "s = int(input())\n",
    "print ('starting swap')\n",
    "t = f\n",
    "f = s\n",
    "s = f\n",
    "s= t\n",
    "print(f)\n",
    "print(s)"
   ]
  },
  {
   "cell_type": "code",
   "execution_count": null,
   "id": "0815d1d6",
   "metadata": {},
   "outputs": [],
   "source": []
  }
 ],
 "metadata": {
  "kernelspec": {
   "display_name": "Python 3 (ipykernel)",
   "language": "python",
   "name": "python3"
  },
  "language_info": {
   "codemirror_mode": {
    "name": "ipython",
    "version": 3
   },
   "file_extension": ".py",
   "mimetype": "text/x-python",
   "name": "python",
   "nbconvert_exporter": "python",
   "pygments_lexer": "ipython3",
   "version": "3.9.12"
  }
 },
 "nbformat": 4,
 "nbformat_minor": 5
}
