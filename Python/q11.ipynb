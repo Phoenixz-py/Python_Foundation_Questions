{
 "cells": [
  {
   "cell_type": "code",
   "execution_count": 9,
   "id": "67f15e0c",
   "metadata": {},
   "outputs": [
    {
     "name": "stdout",
     "output_type": "stream",
     "text": [
      "Enter A: 6\n",
      "Enter B: 6\n",
      "A is equal to B\n",
      "Extra result: A is equal to or geater than B\n",
      "Extra result: B is not equal to A\n"
     ]
    }
   ],
   "source": [
    "a = int(input('Enter A: '))\n",
    "b = int(input('Enter B: '))\n",
    "if a > b:\n",
    "    print('A is greater tha B')\n",
    "elif a < b:\n",
    "     print('B is greater tha A')\n",
    "elif a == b:\n",
    "      print('A is equal to B')\n",
    "if a != b:\n",
    "       print('Extra result: A is not equal to B')\n",
    "if a >= b:\n",
    "        print('Extra result: A is equal to or geater than B')\n",
    "if a <= b:\n",
    "         print('Extra result: B is not equal to A')"
   ]
  },
  {
   "cell_type": "code",
   "execution_count": null,
   "id": "b4723043",
   "metadata": {},
   "outputs": [],
   "source": []
  }
 ],
 "metadata": {
  "kernelspec": {
   "display_name": "Python 3 (ipykernel)",
   "language": "python",
   "name": "python3"
  },
  "language_info": {
   "codemirror_mode": {
    "name": "ipython",
    "version": 3
   },
   "file_extension": ".py",
   "mimetype": "text/x-python",
   "name": "python",
   "nbconvert_exporter": "python",
   "pygments_lexer": "ipython3",
   "version": "3.9.12"
  }
 },
 "nbformat": 4,
 "nbformat_minor": 5
}
