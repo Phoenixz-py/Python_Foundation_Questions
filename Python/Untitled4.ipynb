{
 "cells": [
  {
   "cell_type": "code",
   "execution_count": 4,
   "id": "869bf290",
   "metadata": {},
   "outputs": [
    {
     "name": "stdout",
     "output_type": "stream",
     "text": [
      "Work Hour\n",
      "Enter Work Hour35\n",
      "Enter Rate Per Hour\n",
      "2.75\n",
      "Gross Pay: \n",
      "96.25\n"
     ]
    }
   ],
   "source": [
    "print(\"Work Hour\")\n",
    "workHour = float(input(\"Enter Work Hour\"))\n",
    "print(\"Enter Rate Per Hour\")\n",
    "payHour = float(input())\n",
    "\n",
    "\n",
    "print(\"Gross Pay: \")\n",
    "print(workHour * payHour)"
   ]
  },
  {
   "cell_type": "code",
   "execution_count": null,
   "id": "0a7ffbf3",
   "metadata": {},
   "outputs": [],
   "source": []
  }
 ],
 "metadata": {
  "kernelspec": {
   "display_name": "Python 3 (ipykernel)",
   "language": "python",
   "name": "python3"
  },
  "language_info": {
   "codemirror_mode": {
    "name": "ipython",
    "version": 3
   },
   "file_extension": ".py",
   "mimetype": "text/x-python",
   "name": "python",
   "nbconvert_exporter": "python",
   "pygments_lexer": "ipython3",
   "version": "3.9.12"
  }
 },
 "nbformat": 4,
 "nbformat_minor": 5
}
