{
 "cells": [
  {
   "cell_type": "code",
   "execution_count": 2,
   "id": "30de8ebf",
   "metadata": {},
   "outputs": [
    {
     "name": "stdout",
     "output_type": "stream",
     "text": [
      "Enter first number to check is and is not dentity Operators:5\n",
      "Enter second number to check is and is not dentity Operators:8\n",
      "False\n",
      "True\n"
     ]
    }
   ],
   "source": [
    "a = int(input('Enter first number to check is and is not dentity Operators:'))\n",
    "b = int(input('Enter second number to check is and is not dentity Operators:'))\n",
    "print(a is b)\n",
    "print(a is not b)"
   ]
  },
  {
   "cell_type": "code",
   "execution_count": null,
   "id": "68e9b94b",
   "metadata": {},
   "outputs": [],
   "source": []
  }
 ],
 "metadata": {
  "kernelspec": {
   "display_name": "Python 3 (ipykernel)",
   "language": "python",
   "name": "python3"
  },
  "language_info": {
   "codemirror_mode": {
    "name": "ipython",
    "version": 3
   },
   "file_extension": ".py",
   "mimetype": "text/x-python",
   "name": "python",
   "nbconvert_exporter": "python",
   "pygments_lexer": "ipython3",
   "version": "3.9.12"
  }
 },
 "nbformat": 4,
 "nbformat_minor": 5
}
