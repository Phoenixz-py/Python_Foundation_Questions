{
 "cells": [
  {
   "cell_type": "code",
   "execution_count": 21,
   "id": "a5f992aa",
   "metadata": {},
   "outputs": [
    {
     "name": "stdout",
     "output_type": "stream",
     "text": [
      "Enter first number A: 3\n",
      "Enter second number B: 7\n",
      "Enter first number C: 6\n",
      "Enter second number D: 2\n",
      "Either A and B is not divisible by 5 or C and D  is not divisible by 5\n"
     ]
    }
   ],
   "source": [
    "j = int(input('Enter first number A: '))\n",
    "i = int(input('Enter second number B: '))\n",
    "l = int(input('Enter first number C: '))\n",
    "ly = int(input('Enter second number D: '))\n",
    "\n",
    "\n",
    "if j == i and l == b:\n",
    "    print('A is equal to B and C is equal to D')\n",
    "elif j == i or l == ly:\n",
    "     print('Either A is equal to B or C is equal D')\n",
    "        \n",
    "if not (j%5 == 0 and i%5 == 0 or l%5 == 0 and ly%5 == 0):\n",
    "     print('Either A and B is not divisible by 5 or C and D  is not divisible by 5')\n",
    "        \n",
    "else:\n",
    "     print('Korewa Korewa error desu ne')\n"
   ]
  },
  {
   "cell_type": "code",
   "execution_count": null,
   "id": "31949716",
   "metadata": {},
   "outputs": [],
   "source": []
  }
 ],
 "metadata": {
  "kernelspec": {
   "display_name": "Python 3 (ipykernel)",
   "language": "python",
   "name": "python3"
  },
  "language_info": {
   "codemirror_mode": {
    "name": "ipython",
    "version": 3
   },
   "file_extension": ".py",
   "mimetype": "text/x-python",
   "name": "python",
   "nbconvert_exporter": "python",
   "pygments_lexer": "ipython3",
   "version": "3.9.12"
  }
 },
 "nbformat": 4,
 "nbformat_minor": 5
}
