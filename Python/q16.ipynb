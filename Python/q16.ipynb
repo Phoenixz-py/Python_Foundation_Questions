{
 "cells": [
  {
   "cell_type": "code",
   "execution_count": 24,
   "id": "c5395276",
   "metadata": {},
   "outputs": [
    {
     "name": "stdout",
     "output_type": "stream",
     "text": [
      "Apperance of 3 in Tuple1 is: 1\n",
      "Hello \n",
      "World \n",
      "hello World \n",
      "8\n",
      "3.0\n",
      "3\n",
      "36\n",
      "0\n"
     ]
    }
   ],
   "source": [
    "#tule\n",
    "Tuple1 = (1, 2, 3)\n",
    "res = Tuple1.count(3)\n",
    "print('Apperance of 3 in Tuple1 is:', res)\n",
    "\n",
    "#string\n",
    "varHello = 'hello '\n",
    "varWorld = 'World '\n",
    "print(varHello.capitalize())\n",
    "print(varWorld.center(0))\n",
    "print(varHello + varWorld)\n",
    "\n",
    "\n",
    "\n",
    "#numeric\n",
    "a = 6\n",
    "b = 2\n",
    "print(a + b)\n",
    "print(a / b)\n",
    "print(a // b)\n",
    "print(a ** b)\n",
    "print(a % b)"
   ]
  },
  {
   "cell_type": "code",
   "execution_count": null,
   "id": "245619e9",
   "metadata": {},
   "outputs": [],
   "source": []
  }
 ],
 "metadata": {
  "kernelspec": {
   "display_name": "Python 3 (ipykernel)",
   "language": "python",
   "name": "python3"
  },
  "language_info": {
   "codemirror_mode": {
    "name": "ipython",
    "version": 3
   },
   "file_extension": ".py",
   "mimetype": "text/x-python",
   "name": "python",
   "nbconvert_exporter": "python",
   "pygments_lexer": "ipython3",
   "version": "3.9.12"
  }
 },
 "nbformat": 4,
 "nbformat_minor": 5
}
