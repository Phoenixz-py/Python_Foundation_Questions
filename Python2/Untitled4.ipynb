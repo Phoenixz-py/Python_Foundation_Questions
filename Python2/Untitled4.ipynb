{
 "cells": [
  {
   "cell_type": "code",
   "execution_count": 2,
   "id": "8f20b968",
   "metadata": {},
   "outputs": [
    {
     "name": "stdout",
     "output_type": "stream",
     "text": [
      "Enter the max number till you want to print fibonacci series: 8\n",
      "0\n",
      "1\n",
      "2\n",
      "3\n",
      "4\n",
      "5\n",
      "6\n",
      "7\n"
     ]
    }
   ],
   "source": [
    "user = int(input(\"Enter the max number till you want to print fibonacci series: \"))\n",
    "\n",
    "first_Value = 0\n",
    "second_Value = 1\n",
    "\n",
    "for i in range(0, user):\n",
    "    if(i <= i):\n",
    "        next = i\n",
    "    else:\n",
    "        next = first_Value + second_Value\n",
    "        first_Value = second_Value\n",
    "        second_Value = next\n",
    "        \n",
    "    print(next)"
   ]
  },
  {
   "cell_type": "code",
   "execution_count": null,
   "id": "b3498d5c",
   "metadata": {},
   "outputs": [],
   "source": []
  }
 ],
 "metadata": {
  "kernelspec": {
   "display_name": "Python 3 (ipykernel)",
   "language": "python",
   "name": "python3"
  },
  "language_info": {
   "codemirror_mode": {
    "name": "ipython",
    "version": 3
   },
   "file_extension": ".py",
   "mimetype": "text/x-python",
   "name": "python",
   "nbconvert_exporter": "python",
   "pygments_lexer": "ipython3",
   "version": "3.9.12"
  }
 },
 "nbformat": 4,
 "nbformat_minor": 5
}
