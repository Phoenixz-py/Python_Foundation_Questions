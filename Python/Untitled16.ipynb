{
 "cells": [
  {
   "cell_type": "code",
   "execution_count": 12,
   "id": "b618f5c2",
   "metadata": {},
   "outputs": [
    {
     "name": "stdout",
     "output_type": "stream",
     "text": [
      "[2, 3, 4, 1]\n",
      "{'b': 2, 'c': 3, 'd': 4, 'e': 5}\n"
     ]
    }
   ],
   "source": [
    "#list\n",
    "myList = [1, 2, 3, 4]\n",
    "\n",
    "myList.append(5)\n",
    "myList.count(2)\n",
    "myList.pop()\n",
    "myList.remove(1)\n",
    "myList.insert(5, 1)\n",
    "print(myList)\n",
    "\n",
    "#Dictionary\n",
    "\n",
    "myDict = {\"a\": 1, \"b\": 2, \"c\": 3, \"d\": 4, \"e\": 5}\n",
    "myDict.copy()\n",
    "myDict.fromkeys(\"a\")\n",
    "myDict.keys()\n",
    "myDict.values()\n",
    "myDict.items()\n",
    "myDict.pop(\"a\")\n",
    "print(myDict)\n",
    "\n",
    "#Set\n",
    "\n",
    "se = {'j', 'i', 'l', 'k'}\n",
    "se.discard('k')\n",
    "se.add('l')\n",
    "\n"
   ]
  },
  {
   "cell_type": "code",
   "execution_count": null,
   "id": "da5826f8",
   "metadata": {},
   "outputs": [],
   "source": []
  }
 ],
 "metadata": {
  "kernelspec": {
   "display_name": "Python 3 (ipykernel)",
   "language": "python",
   "name": "python3"
  },
  "language_info": {
   "codemirror_mode": {
    "name": "ipython",
    "version": 3
   },
   "file_extension": ".py",
   "mimetype": "text/x-python",
   "name": "python",
   "nbconvert_exporter": "python",
   "pygments_lexer": "ipython3",
   "version": "3.9.12"
  }
 },
 "nbformat": 4,
 "nbformat_minor": 5
}
