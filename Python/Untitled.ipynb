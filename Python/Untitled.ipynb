{
 
   "source": [
    "name = str(input())\n",
    "branch = str(input())\n",
    "roll_no = int(input())\n",
    "semester = str(input())\n",
    "department = str(input())\n",
    "college_name = str(input()\n",
    "                   \n",
    "print(name)\n",
    "print(branch) \n",
    "print(roll_no)\n",
    "print(semester)\n",
    "print(department)\n",
    "print(college_name)"
   ]
  },
  {
   "cell_type": "code",
   "execution_count": null,
   "id": "543e2c01",
   "metadata": {},
   "outputs": [],
   "source": []
  },
  {
   "cell_type": "code",
   "execution_count": 7,
   "id": "6dd7cd18",
   "metadata": {},
   "outputs": [
    {
     "name": "stdout",
     "output_type": "stream",
     "text": [
      "yash\n",
      "cse ai & ml\n",
      "cam20079\n",
      "ai & ml\n",
      "cv raman global university\n",
      "pat nai\n",
      "yash\n",
      "cse ai & ml\n",
      "cam20079\n",
      "ai & ml\n",
      "cv raman global university\n",
      "pat nai\n"
     ]
    }
   ],
   "source": [
    "name = str(input())\n",
    "branch = str(input())\n",
    "roll_no = (input())\n",
    "semester = str(input())\n",
    "department = str(input())\n",
    "college_name = str(input())\n",
    "                   \n",
    "print(name)\n",
    "print(branch) \n",
    "print(roll_no)\n",
    "print(semester)\n",
    "print(department)\n",
    "print(college_name)"
   ]
  },
  {
   "cell_type": "code",
   "execution_count": null,
   "id": "ba5343e7",
   "metadata": {},
   "outputs": [],
   "source": []
  }
 ],
 "metadata": {
  "kernelspec": {
   "display_name": "Python 3 (ipykernel)",
   "language": "python",
   "name": "python3"
  },
  "language_info": {
   "codemirror_mode": {
    "name": "ipython",
    "version": 3
   },
   "file_extension": ".py",
   "mimetype": "text/x-python",
   "name": "python",
   "nbconvert_exporter": "python",
   "pygments_lexer": "ipython3",
   "version": "3.9.12"
  }
 },
 "nbformat": 4,
 "nbformat_minor": 5
}
