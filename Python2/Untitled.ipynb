{
 "cells": [
  {
   "cell_type": "code",
   "execution_count": null,
   "id": "b204ab71",
   "metadata": {},
   "outputs": [],
   "source": [
    "a = int(input('Enter number A: '))\n",
    "b = int(input('Enter number B: '))\n",
    "c = int(input('Enter number C: '))\n",
    "\n",
    "if a > b and a > c:\n",
    "    print('A is largest among the three numbers you have inputted')\n",
    "    \n",
    "elif b > b and a > c:\n",
    "    print('A is largest among the three numbers you have inputted')\n",
    "\n"
   ]
  }
 ],
 "metadata": {
  "kernelspec": {
   "display_name": "Python 3 (ipykernel)",
   "language": "python",
   "name": "python3"
  },
  "language_info": {
   "codemirror_mode": {
    "name": "ipython",
    "version": 3
   },
   "file_extension": ".py",
   "mimetype": "text/x-python",
   "name": "python",
   "nbconvert_exporter": "python",
   "pygments_lexer": "ipython3",
   "version": "3.9.12"
  }
 },
 "nbformat": 4,
 "nbformat_minor": 5
}
